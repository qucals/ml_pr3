{
 "cells": [
  {
   "cell_type": "code",
   "execution_count": 1,
   "metadata": {},
   "outputs": [],
   "source": [
    "import requests\n",
    "import json\n",
    "from pyyoutube import Api"
   ]
  },
  {
   "cell_type": "code",
   "execution_count": 5,
   "metadata": {},
   "outputs": [],
   "source": [
    "import sys\n",
    "sys.path.insert(0, '..')"
   ]
  },
  {
   "cell_type": "code",
   "execution_count": 6,
   "metadata": {},
   "outputs": [],
   "source": [
    "import config.tokens as tokens"
   ]
  },
  {
   "cell_type": "code",
   "execution_count": 4,
   "metadata": {},
   "outputs": [],
   "source": [
    "key = tokens.youtube_api_token\n",
    "api = Api(api_key=key)"
   ]
  },
  {
   "cell_type": "code",
   "execution_count": 6,
   "metadata": {},
   "outputs": [],
   "source": [
    "query = \"'Machine Learning'\"\n",
    "video = api.search_by_keywords(q=query, search_type=[\"video\"], count=10, limit=30)"
   ]
  },
  {
   "cell_type": "code",
   "execution_count": 12,
   "metadata": {},
   "outputs": [],
   "source": [
    "video_id = video.items[0].id.videoId\n",
    "max_result = 100\n",
    "next_page_token = \"\"\n",
    "uri = \"https://www.googleapis.com/youtube/v3/commentThreads?\" + \\\n",
    "    \"key={}&textFormat=plainText&\" + \\\n",
    "    \"part=snippet&\" + \\\n",
    "    \"videoId={}&\" + \\\n",
    "    \"maxResults={}&\" + \\\n",
    "    \"pageToken={}\"\n",
    "uri = uri.format(key, video_id, max_result, next_page_token)"
   ]
  },
  {
   "cell_type": "code",
   "execution_count": 13,
   "metadata": {},
   "outputs": [],
   "source": [
    "content = requests.get(uri).text\n",
    "data = json.loads(content)"
   ]
  },
  {
   "cell_type": "code",
   "execution_count": 16,
   "metadata": {},
   "outputs": [
    {
     "name": "stdout",
     "output_type": "stream",
     "text": [
      "🔥AI/ML Course for 3-8 Yrs Work Exp: https://l.linklyhq.com/l/1tx8Y\n",
      "🔥AI/ML Course for 0-3 Yrs Work Exp: https://l.linklyhq.com/l/1uhih\n",
      "🔥AI/ML Course for 8+ Yrs Work Exp: https://l.linklyhq.com/l/1tx8e\n",
      "Great video 👍\n"
     ]
    }
   ],
   "source": [
    "print(data['items'][0]['snippet']['topLevelComment']['snippet']['textDisplay'])\n",
    "print(data['items'][1]['snippet']['topLevelComment']['snippet']['textDisplay'])"
   ]
  },
  {
   "cell_type": "code",
   "execution_count": null,
   "metadata": {},
   "outputs": [],
   "source": []
  }
 ],
 "metadata": {
  "kernelspec": {
   "display_name": ".venv",
   "language": "python",
   "name": "python3"
  },
  "language_info": {
   "codemirror_mode": {
    "name": "ipython",
    "version": 3
   },
   "file_extension": ".py",
   "mimetype": "text/x-python",
   "name": "python",
   "nbconvert_exporter": "python",
   "pygments_lexer": "ipython3",
   "version": "3.11.6"
  }
 },
 "nbformat": 4,
 "nbformat_minor": 2
}
